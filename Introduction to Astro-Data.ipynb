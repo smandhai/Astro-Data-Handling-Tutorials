{
 "cells": [
  {
   "cell_type": "markdown",
   "id": "69a5f33f",
   "metadata": {},
   "source": [
    "# Introduction To Astro-Data Analysis"
   ]
  },
  {
   "cell_type": "markdown",
   "id": "c3295f3a",
   "metadata": {},
   "source": [
    "In this notebook, I will cover the key methods required to get started with processing astrophysical datasets.\n",
    "\n",
    "We will cover:\n",
    "- Downloading datasets directly from the source using scripts\n",
    "- Dealing with different file formats\n",
    "- Loading in data effectively\n",
    "- Processing and manipulating data\n",
    "- Visulation\n",
    "- Storing Data\n",
    "\n",
    "## Case Study\n",
    "Gamma-Ray Bursts (GRBs) are among the highest energy events that arise within the Universe. They can outshine galaxies and can be seen at extremely high redshift. There are two primary classes of GRBs, short and long. These are characterised by the time taken for 5\\% - 95\\% of the flux to be detected (T90). Short GRBs have T90s typically <2 s, whilst for Long GRBs, the T90s are >2 s.  \n",
    "\n",
    "In this example, we will:\n",
    "- Download some GRB light curves\n",
    "- Visualise\n",
    "- Download and visualise location skymaps corresponding to the GRB\n",
    "- Identify the nearest galaxies\n",
    "- Circle regions of interest\n",
    "- Output a list of nearby galaxies"
   ]
  },
  {
   "cell_type": "markdown",
   "id": "118bb9a7",
   "metadata": {},
   "source": [
    "## Downloading data\n"
   ]
  },
  {
   "cell_type": "code",
   "execution_count": 24,
   "id": "1f2161ca",
   "metadata": {},
   "outputs": [
    {
     "name": "stdout",
     "output_type": "stream",
     "text": [
      "Legacy method has failed\n"
     ]
    }
   ],
   "source": [
    "\"\"\"Conveniently, python has native packages that can help us download data directly from HTTP sources! \n",
    "The [urlretrieve] package is what we will be using to download the dataset that we are interested in.\"\"\"\n",
    "import urllib.request as req\n",
    "import shutil #for shell operations\n",
    "\"Download the data for GRB 211211A - Full list can be found here: https://www.swift.ac.uk/xrt_products/index.php?year=2022\"\n",
    "\"Click on the curve option for the GRB of interest and click the download button. You can either save the file directly or copy the url.\"\n",
    "\n",
    "\"Direct Download\"\n",
    "url  = \"https://www.swift.ac.uk/scripts/viewData.php?file=https://www.swift.ac.uk/user_objects/tprods/tmp_jsplot_bqmZlb.qdp\"\n",
    "text_file = 'GRB211211A_xrt.txt'\n",
    "try:\n",
    "    data = req.urlretrieve(url+1,text_file) #Legacy method\n",
    "except:\n",
    "    print(\"Legacy method has failed\")\n",
    "    \"Modern approach to downloading datasets\"\n",
    "    with req.urlopen(url) as response, open(text_file,'wb') as of:\n",
    "        shutil.copyfileobj(response,of)"
   ]
  },
  {
   "cell_type": "markdown",
   "id": "b8a3e46d",
   "metadata": {},
   "source": [
    "## Loading in dataset\n",
    "Now that we have downloaded our data, we need to load it in, so we can start processing it! "
   ]
  },
  {
   "cell_type": "code",
   "execution_count": null,
   "id": "f9663152",
   "metadata": {},
   "outputs": [],
   "source": []
  }
 ],
 "metadata": {
  "kernelspec": {
   "display_name": "Python 3",
   "language": "python",
   "name": "python3"
  },
  "language_info": {
   "codemirror_mode": {
    "name": "ipython",
    "version": 3
   },
   "file_extension": ".py",
   "mimetype": "text/x-python",
   "name": "python",
   "nbconvert_exporter": "python",
   "pygments_lexer": "ipython3",
   "version": "3.8.8"
  }
 },
 "nbformat": 4,
 "nbformat_minor": 5
}
