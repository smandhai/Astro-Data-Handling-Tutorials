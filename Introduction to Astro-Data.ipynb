{
 "cells": [
  {
   "cell_type": "markdown",
   "id": "8a38073a",
   "metadata": {},
   "source": [
    "# Introduction To Astro-Data Analysis"
   ]
  },
  {
   "cell_type": "markdown",
   "id": "01ffa37e",
   "metadata": {},
   "source": [
    "In this notebook, I will cover the key methods required to get started with processing astrophysical datasets.\n",
    "\n",
    "We will cover:\n",
    "- Downloading datasets directly from the source using scripts\n",
    "- Dealing with different file formats\n",
    "- Loading in data effectively\n",
    "- Processing and manipulating data\n",
    "- Visulation\n",
    "- Storing Data\n"
   ]
  },
  {
   "cell_type": "code",
   "execution_count": null,
   "id": "50cb29ab",
   "metadata": {},
   "outputs": [],
   "source": []
  },
  {
   "cell_type": "code",
   "execution_count": null,
   "id": "d2f181eb",
   "metadata": {},
   "outputs": [],
   "source": []
  }
 ],
 "metadata": {
  "kernelspec": {
   "display_name": "Python 3",
   "language": "python",
   "name": "python3"
  },
  "language_info": {
   "codemirror_mode": {
    "name": "ipython",
    "version": 3
   },
   "file_extension": ".py",
   "mimetype": "text/x-python",
   "name": "python",
   "nbconvert_exporter": "python",
   "pygments_lexer": "ipython3",
   "version": "3.8.8"
  }
 },
 "nbformat": 4,
 "nbformat_minor": 5
}
