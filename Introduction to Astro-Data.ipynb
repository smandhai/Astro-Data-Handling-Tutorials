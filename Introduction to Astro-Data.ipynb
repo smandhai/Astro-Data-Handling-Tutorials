{
 "cells": [
  {
   "cell_type": "markdown",
   "id": "b30cc997",
   "metadata": {},
   "source": [
    "# Introduction To Astro-Data Analysis"
   ]
  },
  {
   "cell_type": "markdown",
   "id": "cf898566",
   "metadata": {},
   "source": [
    "In this notebook, I will cover the key methods required to get started with processing astrophysical datasets.\n",
    "\n",
    "We will cover:\n",
    "- Downloading datasets directly from the source using scripts\n",
    "- Dealing with different file formats\n",
    "- Loading in data effectively\n",
    "- Processing and manipulating data\n",
    "- Visulation\n",
    "- Storing Data\n",
    "\n",
    "## Case Study\n",
    "Gamma-Ray Bursts (GRBs) are among the highest energy events that arise within the Universe. They can outshine galaxies and can be seen at extremely high redshift. There are two primary classes of GRBs, short and long. These are characterised by the time taken for 5\\% - 95\\% of the flux to be detected (T90). Short GRBs have T90s typically <2 s, whilst for Long GRBs, the T90s are >2 s.  \n",
    "\n",
    "In this example, we will:\n",
    "- Download some GRB light curves\n",
    "- Visualise\n",
    "- Download and visualise location skymaps corresponding to the GRB\n",
    "- Identify the nearest galaxies\n",
    "- Circle regions of interest\n",
    "- Output a list of nearby galaxies"
   ]
  },
  {
   "cell_type": "markdown",
   "id": "20ad9933",
   "metadata": {},
   "source": [
    "## Downloading data\n"
   ]
  },
  {
   "cell_type": "code",
   "execution_count": 34,
   "id": "0eeb7794",
   "metadata": {},
   "outputs": [
    {
     "name": "stdout",
     "output_type": "stream",
     "text": [
      "Legacy method has failed\n"
     ]
    }
   ],
   "source": [
    "\"\"\"Conveniently, python has native packages that can help us download data directly from HTTP sources! \n",
    "The [urlretrieve] package is what we will be using to download the dataset that we are interested in.\"\"\"\n",
    "import urllib.request as req\n",
    "import shutil #for shell operations\n",
    "\"Download the data for GRB 211211A - Full list can be found here: https://www.swift.ac.uk/xrt_products/index.php?year=2022\"\n",
    "\"Click on the curve option for the GRB of interest and click the download button. You can either save the file directly or copy the url.\"\n",
    "\n",
    "\"Direct Download\"\n",
    "url  = \"https://www.swift.ac.uk/scripts/viewData.php?file=https://www.swift.ac.uk/user_objects/tprods/tmp_jsplot_bqmZlb.qdp\"\n",
    "text_file = 'GRB211211A_xrt.txt'\n",
    "try:\n",
    "    data = req.urlretrieve(url,text_file) #Legacy method\n",
    "except:\n",
    "    print(\"Legacy method has failed\")\n",
    "    \"Modern approach to downloading datasets\"\n",
    "    with req.urlopen(url) as response, open(text_file,'wb') as of:\n",
    "        shutil.copyfileobj(response,of)"
   ]
  },
  {
   "cell_type": "markdown",
   "id": "d3451df9",
   "metadata": {},
   "source": [
    "## Loading in dataset\n",
    "Now that we have downloaded our data, we need to load it in, so we can start processing it! "
   ]
  },
  {
   "cell_type": "code",
   "execution_count": 30,
   "id": "d36fb973",
   "metadata": {},
   "outputs": [
    {
     "data": {
      "text/html": [
       "<div>\n",
       "<style scoped>\n",
       "    .dataframe tbody tr th:only-of-type {\n",
       "        vertical-align: middle;\n",
       "    }\n",
       "\n",
       "    .dataframe tbody tr th {\n",
       "        vertical-align: top;\n",
       "    }\n",
       "\n",
       "    .dataframe thead th {\n",
       "        text-align: right;\n",
       "    }\n",
       "</style>\n",
       "<table border=\"1\" class=\"dataframe\">\n",
       "  <thead>\n",
       "    <tr style=\"text-align: right;\">\n",
       "      <th></th>\n",
       "      <th></th>\n",
       "      <th></th>\n",
       "      <th></th>\n",
       "      <th></th>\n",
       "      <th>! WTSLEWHRhard</th>\n",
       "    </tr>\n",
       "  </thead>\n",
       "  <tbody>\n",
       "    <tr>\n",
       "      <th>70.9036887166384</th>\n",
       "      <th>1.515502</th>\n",
       "      <th>-1.557131</th>\n",
       "      <th>1049.918423</th>\n",
       "      <th>67.731397</th>\n",
       "      <td>-67.731397</td>\n",
       "    </tr>\n",
       "    <tr>\n",
       "      <th>75.651008093708</th>\n",
       "      <th>3.104449</th>\n",
       "      <th>-3.231817</th>\n",
       "      <th>795.918974</th>\n",
       "      <th>51.304162</th>\n",
       "      <td>-51.304162</td>\n",
       "    </tr>\n",
       "    <tr>\n",
       "      <th>NO NO NO NO NO NO</th>\n",
       "      <th>NaN</th>\n",
       "      <th>NaN</th>\n",
       "      <th>NaN</th>\n",
       "      <th>NaN</th>\n",
       "      <td>NaN</td>\n",
       "    </tr>\n",
       "    <tr>\n",
       "      <th>! WTHRhard</th>\n",
       "      <th>NaN</th>\n",
       "      <th>NaN</th>\n",
       "      <th>NaN</th>\n",
       "      <th>NaN</th>\n",
       "      <td>NaN</td>\n",
       "    </tr>\n",
       "    <tr>\n",
       "      <th>84.015</th>\n",
       "      <th>1.227000</th>\n",
       "      <th>-1.041000</th>\n",
       "      <th>776.987414</th>\n",
       "      <th>57.487909</th>\n",
       "      <td>-57.487909</td>\n",
       "    </tr>\n",
       "    <tr>\n",
       "      <th>...</th>\n",
       "      <th>...</th>\n",
       "      <th>...</th>\n",
       "      <th>...</th>\n",
       "      <th>...</th>\n",
       "      <td>...</td>\n",
       "    </tr>\n",
       "    <tr>\n",
       "      <th>17183.751</th>\n",
       "      <th>246.438000</th>\n",
       "      <th>-242.489000</th>\n",
       "      <th>0.819197</th>\n",
       "      <th>0.180001</th>\n",
       "      <td>-0.180001</td>\n",
       "    </tr>\n",
       "    <tr>\n",
       "      <th>21907.294</th>\n",
       "      <th>238.860000</th>\n",
       "      <th>-237.527000</th>\n",
       "      <th>0.756893</th>\n",
       "      <th>0.171413</th>\n",
       "      <td>-0.171413</td>\n",
       "    </tr>\n",
       "    <tr>\n",
       "      <th>58973.289</th>\n",
       "      <th>3872.893000</th>\n",
       "      <th>-2710.837000</th>\n",
       "      <th>0.997328</th>\n",
       "      <th>0.270894</th>\n",
       "      <td>-0.270894</td>\n",
       "    </tr>\n",
       "    <tr>\n",
       "      <th>67907.252</th>\n",
       "      <th>482.935000</th>\n",
       "      <th>-612.755000</th>\n",
       "      <th>1.249625</th>\n",
       "      <th>0.437256</th>\n",
       "      <td>-0.437256</td>\n",
       "    </tr>\n",
       "    <tr>\n",
       "      <th>78433.442</th>\n",
       "      <th>13151.584000</th>\n",
       "      <th>-5284.710000</th>\n",
       "      <th>0.541609</th>\n",
       "      <th>0.180852</th>\n",
       "      <td>-0.180852</td>\n",
       "    </tr>\n",
       "  </tbody>\n",
       "</table>\n",
       "<p>313 rows × 1 columns</p>\n",
       "</div>"
      ],
      "text/plain": [
       "                                                                   ! WTSLEWHRhard\n",
       "70.9036887166384  1.515502     -1.557131    1049.918423 67.731397      -67.731397\n",
       "75.651008093708   3.104449     -3.231817    795.918974  51.304162      -51.304162\n",
       "NO NO NO NO NO NO NaN          NaN          NaN         NaN                   NaN\n",
       "! WTHRhard        NaN          NaN          NaN         NaN                   NaN\n",
       "84.015            1.227000     -1.041000    776.987414  57.487909      -57.487909\n",
       "...                                                                           ...\n",
       "17183.751         246.438000   -242.489000  0.819197    0.180001        -0.180001\n",
       "21907.294         238.860000   -237.527000  0.756893    0.171413        -0.171413\n",
       "58973.289         3872.893000  -2710.837000 0.997328    0.270894        -0.270894\n",
       "67907.252         482.935000   -612.755000  1.249625    0.437256        -0.437256\n",
       "78433.442         13151.584000 -5284.710000 0.541609    0.180852        -0.180852\n",
       "\n",
       "[313 rows x 1 columns]"
      ]
     },
     "execution_count": 30,
     "metadata": {},
     "output_type": "execute_result"
    }
   ],
   "source": [
    "import pandas as pd\n",
    "import numpy as np\n",
    "import csv\n"
   ]
  },
  {
   "cell_type": "markdown",
   "id": "e5b324b4",
   "metadata": {},
   "source": [
    "### Using Pandas\n"
   ]
  },
  {
   "cell_type": "code",
   "execution_count": null,
   "id": "40670db4",
   "metadata": {},
   "outputs": [],
   "source": [
    "\"The dataset has 4 headers but 6 columns\"\n",
    "pd.read_csv(text_file,sep='\\t',skiprows=[0])"
   ]
  }
 ],
 "metadata": {
  "kernelspec": {
   "display_name": "Python 3",
   "language": "python",
   "name": "python3"
  },
  "language_info": {
   "codemirror_mode": {
    "name": "ipython",
    "version": 3
   },
   "file_extension": ".py",
   "mimetype": "text/x-python",
   "name": "python",
   "nbconvert_exporter": "python",
   "pygments_lexer": "ipython3",
   "version": "3.8.8"
  }
 },
 "nbformat": 4,
 "nbformat_minor": 5
}
