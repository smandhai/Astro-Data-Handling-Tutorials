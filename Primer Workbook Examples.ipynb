{
  "cells": [
    {
      "cell_type": "markdown",
      "metadata": {
        "id": "view-in-github",
        "colab_type": "text"
      },
      "source": [
        "<a href=\"https://colab.research.google.com/github/smandhai/Astro-Data-Handling-Tutorials/blob/main/Primer%20Workbook%20Examples.ipynb\" target=\"_parent\"><img src=\"https://colab.research.google.com/assets/colab-badge.svg\" alt=\"Open In Colab\"/></a>"
      ]
    },
    {
      "cell_type": "markdown",
      "id": "9ad8cc56",
      "metadata": {
        "id": "9ad8cc56"
      },
      "source": [
        "#\n"
      ]
    },
    {
      "cell_type": "markdown",
      "id": "bd85abb1",
      "metadata": {
        "id": "bd85abb1"
      },
      "source": [
        "# Debugging\n",
        "\n",
        "Worked examples showing different methods that can be employed to debug your code.\n"
      ]
    },
    {
      "cell_type": "markdown",
      "id": "e460a36e",
      "metadata": {
        "id": "e460a36e"
      },
      "source": [
        "## Traceback"
      ]
    },
    {
      "cell_type": "code",
      "execution_count": null,
      "id": "3d9b10b4",
      "metadata": {
        "id": "3d9b10b4",
        "outputId": "3f5899ea-7419-4427-dc12-54ef2bc5deaf"
      },
      "outputs": [
        {
          "ename": "ZeroDivisionError",
          "evalue": "division by zero",
          "output_type": "error",
          "traceback": [
            "\u001b[1;31m---------------------------------------------------------------------------\u001b[0m",
            "\u001b[1;31mZeroDivisionError\u001b[0m                         Traceback (most recent call last)",
            "Cell \u001b[1;32mIn[1], line 7\u001b[0m\n\u001b[0;32m      4\u001b[0m     \u001b[38;5;28;01mreturn\u001b[39;00m a \u001b[38;5;241m/\u001b[39m b\n\u001b[0;32m      6\u001b[0m \u001b[38;5;66;03m# Intentional error\u001b[39;00m\n\u001b[1;32m----> 7\u001b[0m result \u001b[38;5;241m=\u001b[39m divide(\u001b[38;5;241m10\u001b[39m, \u001b[38;5;241m0\u001b[39m)\n",
            "Cell \u001b[1;32mIn[1], line 4\u001b[0m, in \u001b[0;36mdivide\u001b[1;34m(a, b)\u001b[0m\n\u001b[0;32m      3\u001b[0m \u001b[38;5;28;01mdef\u001b[39;00m \u001b[38;5;21mdivide\u001b[39m(a, b):\n\u001b[1;32m----> 4\u001b[0m     \u001b[38;5;28;01mreturn\u001b[39;00m a \u001b[38;5;241m/\u001b[39m b\n",
            "\u001b[1;31mZeroDivisionError\u001b[0m: division by zero"
          ]
        }
      ],
      "source": [
        "#Rudiemntary debugging\n",
        "\n",
        "def divide(a, b):\n",
        "    return a / b\n",
        "\n",
        "# Intentional error\n",
        "result = divide(10, 0)\n",
        "\n",
        "#What is the issue here?"
      ]
    },
    {
      "cell_type": "markdown",
      "id": "5ebc6e68",
      "metadata": {
        "id": "5ebc6e68"
      },
      "source": [
        "## Printing Variables\n"
      ]
    },
    {
      "cell_type": "code",
      "execution_count": null,
      "id": "73e39fc6",
      "metadata": {
        "id": "73e39fc6",
        "outputId": "4c8ecfcc-6a6e-4014-d7f7-33f5bc4689ef"
      },
      "outputs": [
        {
          "name": "stdout",
          "output_type": "stream",
          "text": [
            "a = 10, b = 0\n"
          ]
        },
        {
          "ename": "ZeroDivisionError",
          "evalue": "division by zero",
          "output_type": "error",
          "traceback": [
            "\u001b[1;31m---------------------------------------------------------------------------\u001b[0m",
            "\u001b[1;31mZeroDivisionError\u001b[0m                         Traceback (most recent call last)",
            "Cell \u001b[1;32mIn[2], line 7\u001b[0m\n\u001b[0;32m      4\u001b[0m     \u001b[38;5;28mprint\u001b[39m(\u001b[38;5;124mf\u001b[39m\u001b[38;5;124m\"\u001b[39m\u001b[38;5;124ma = \u001b[39m\u001b[38;5;132;01m{\u001b[39;00ma\u001b[38;5;132;01m}\u001b[39;00m\u001b[38;5;124m, b = \u001b[39m\u001b[38;5;132;01m{\u001b[39;00mb\u001b[38;5;132;01m}\u001b[39;00m\u001b[38;5;124m\"\u001b[39m)  \u001b[38;5;66;03m# Simple inline debug\u001b[39;00m\n\u001b[0;32m      5\u001b[0m     \u001b[38;5;28;01mreturn\u001b[39;00m a \u001b[38;5;241m/\u001b[39m b\n\u001b[1;32m----> 7\u001b[0m result \u001b[38;5;241m=\u001b[39m divide(\u001b[38;5;241m10\u001b[39m, \u001b[38;5;241m0\u001b[39m)\n",
            "Cell \u001b[1;32mIn[2], line 5\u001b[0m, in \u001b[0;36mdivide\u001b[1;34m(a, b)\u001b[0m\n\u001b[0;32m      3\u001b[0m \u001b[38;5;28;01mdef\u001b[39;00m \u001b[38;5;21mdivide\u001b[39m(a, b):\n\u001b[0;32m      4\u001b[0m     \u001b[38;5;28mprint\u001b[39m(\u001b[38;5;124mf\u001b[39m\u001b[38;5;124m\"\u001b[39m\u001b[38;5;124ma = \u001b[39m\u001b[38;5;132;01m{\u001b[39;00ma\u001b[38;5;132;01m}\u001b[39;00m\u001b[38;5;124m, b = \u001b[39m\u001b[38;5;132;01m{\u001b[39;00mb\u001b[38;5;132;01m}\u001b[39;00m\u001b[38;5;124m\"\u001b[39m)  \u001b[38;5;66;03m# Simple inline debug\u001b[39;00m\n\u001b[1;32m----> 5\u001b[0m     \u001b[38;5;28;01mreturn\u001b[39;00m a \u001b[38;5;241m/\u001b[39m b\n",
            "\u001b[1;31mZeroDivisionError\u001b[0m: division by zero"
          ]
        }
      ],
      "source": [
        "# Printing variable states\n",
        "\n",
        "def divide(a, b):\n",
        "    print(f\"a = {a}, b = {b}\")  # Simple inline debug\n",
        "    return a / b\n",
        "\n",
        "result = divide(10, 0)\n"
      ]
    },
    {
      "cell_type": "markdown",
      "id": "4ca0191f",
      "metadata": {
        "id": "4ca0191f"
      },
      "source": [
        "## Using variable explorers in IDEs"
      ]
    },
    {
      "cell_type": "code",
      "execution_count": null,
      "id": "fc78b607",
      "metadata": {
        "id": "fc78b607"
      },
      "outputs": [],
      "source": [
        "def divide(a, b):\n",
        "    result = a / b  # ← set breakpoint here\n",
        "    return result\n",
        "\n",
        "a =  10\n",
        "b = 0\n"
      ]
    },
    {
      "cell_type": "markdown",
      "id": "9431fefa",
      "metadata": {
        "id": "9431fefa"
      },
      "source": [
        "## Local Module Testing (Unit Tests)\n",
        "\n",
        "With this approach, you create localised tests using standalone scripts with basic, simulated input. The aim of this approach is to ensure the data input is being processed the way you think it is.\n"
      ]
    },
    {
      "cell_type": "code",
      "execution_count": null,
      "id": "c5448bd5",
      "metadata": {
        "id": "c5448bd5"
      },
      "outputs": [],
      "source": [
        "# In utils.py <- Utility testing script\n",
        "\n",
        "def divide(a, b):\n",
        "    return a / b"
      ]
    },
    {
      "cell_type": "code",
      "execution_count": null,
      "id": "9171cf15",
      "metadata": {
        "id": "9171cf15"
      },
      "outputs": [],
      "source": [
        "#In unit.py <- Unit testing script\n",
        "\n",
        "from utils import divide\n",
        "\n",
        "def test_divide():\n",
        "    for a, b in [(10, 2), (5, 0)]:\n",
        "        try:\n",
        "            print(divide(a, b))\n",
        "        except Exception as e:\n",
        "            print(f\"Error dividing {a}/{b}: {e}\")\n",
        "\n",
        "test_divide()"
      ]
    },
    {
      "cell_type": "markdown",
      "id": "14fcf972",
      "metadata": {
        "id": "14fcf972"
      },
      "source": [
        "## Using pdb\n",
        "The Python debugger (pdb) is a library included with python that allows you to launch a python debugging session in your terminal (either through python calls or ipython). It allows you to interact with variables directly through the terminal."
      ]
    },
    {
      "cell_type": "code",
      "execution_count": null,
      "id": "a1b7acd6",
      "metadata": {
        "id": "a1b7acd6"
      },
      "outputs": [],
      "source": [
        "import pdb\n",
        "\n",
        "def divide(a, b):\n",
        "    pdb.set_trace()  # Pauses execution here\n",
        "    return a / b\n",
        "\n",
        "result = divide(10, 0)\n"
      ]
    },
    {
      "cell_type": "markdown",
      "id": "fd268c3f",
      "metadata": {
        "id": "fd268c3f"
      },
      "source": [
        "## Using decorators and wrappers\n",
        "\n",
        "Decorators allow you to alter functionality of written functions. This is useful for adding special methods to dealing with different types of errors and premitting interactive debugging."
      ]
    },
    {
      "cell_type": "code",
      "execution_count": null,
      "id": "956a6006",
      "metadata": {
        "id": "956a6006"
      },
      "outputs": [],
      "source": [
        "import functools\n",
        "import traceback\n",
        "import pdb\n",
        "\n",
        "def debug_on_error(func):\n",
        "    @functools.wraps(func) #Creates a duplicate of parsed variables\n",
        "    def wrapper(*args, **kwargs):\n",
        "        try:\n",
        "            return func(*args, **kwargs)\n",
        "        except Exception:\n",
        "            print(f\"\\n[DEBUG] Error in {func.__name__} with args={args}, kwargs={kwargs}\")\n",
        "            traceback.print_exc()   # print full traceback\n",
        "            pdb.set_trace()          # drop into debugger if needed\n",
        "    return wrapper\n",
        "\n",
        "@debug_on_error\n",
        "def divide(a, b):\n",
        "    return a / b\n",
        "\n",
        "divide(10, 0)\n"
      ]
    },
    {
      "cell_type": "markdown",
      "id": "02598981",
      "metadata": {
        "id": "02598981"
      },
      "source": [
        "# Error Handling\n",
        "\n",
        "Error handling in python lets you catch errors, print statements, and add exceptions to work around errors (to prevent code breakage). If you want to be a robust programmer, handling errors is crucial."
      ]
    },
    {
      "cell_type": "code",
      "execution_count": null,
      "id": "8b4ad4a3",
      "metadata": {
        "id": "8b4ad4a3"
      },
      "outputs": [],
      "source": [
        "def safe_divide_file(filename, a, b):\n",
        "    try:\n",
        "        print(\"Opening file...\")\n",
        "        f = open(filename, \"r\")  # May raise FileNotFoundError\n",
        "\n",
        "        print(\"Performing division...\")\n",
        "        result = a / b           # May raise ZeroDivisionError\n",
        "\n",
        "        data = f.read()\n",
        "        print(f\"File contents: {data[:20]}...\")  # Read first 20 chars\n",
        "        return result\n",
        "\n",
        "    except FileNotFoundError as e:\n",
        "        print(f\"[ERROR] File not found: {e.filename}\")\n",
        "\n",
        "    except ZeroDivisionError as e:\n",
        "        print(f\"[ERROR] Division by zero is not allowed: {e}\")\n",
        "\n",
        "    except Exception as e:\n",
        "        print(f\"[ERROR] Unexpected error occurred: {type(e).__name__}: {e}\")\n",
        "\n",
        "    finally:\n",
        "        print(\"Cleaning up...\")\n",
        "        try:\n",
        "            f.close()\n",
        "            print(\"File closed.\")\n",
        "        except Exception:\n",
        "            print(\"No file was opened; nothing to close.\")\n",
        "\n",
        "# ---- Test cases ----\n",
        "safe_divide_file(\"nonexistent.txt\", 10, 2)\n",
        "safe_divide_file(\"example.txt\", 10, 0)\n"
      ]
    },
    {
      "cell_type": "markdown",
      "id": "8ebfd781",
      "metadata": {
        "id": "8ebfd781"
      },
      "source": [
        "# Parallelisation\n",
        "Tired of running long for loops for repeated tasks? Parallelisation will allow you to make use of threads and processors to spread tasks over the CPU/GPU. This avoids bottlenecks from running single processes and can allow scaling across clusters and high-power computing (HPC) architecture."
      ]
    },
    {
      "cell_type": "code",
      "execution_count": null,
      "id": "99395268",
      "metadata": {
        "id": "99395268"
      },
      "outputs": [],
      "source": [
        "# Function\n",
        "\n",
        "import time\n",
        "import math\n",
        "\n",
        "def simulate(x):\n",
        "    # Simulate heavy computation\n",
        "    total = 0\n",
        "    for i in range(10_000_00):  # adjust workload\n",
        "        total += math.sin(i + x) ** 2\n",
        "    return total\n",
        "\n",
        "# Serial test - running tasks with a for loop\n",
        "\n",
        "start = time.perf_counter()\n",
        "\n",
        "results = []\n",
        "for x in range(8):\n",
        "    results.append(simulate(x))\n",
        "\n",
        "end = time.perf_counter()\n",
        "print(f\"Serial: {end - start:.2f}s\")\n",
        "\n",
        "#Multithreading\n",
        "\n",
        "from concurrent.futures import ThreadPoolExecutor\n",
        "\n",
        "start = time.perf_counter()\n",
        "\n",
        "with ThreadPoolExecutor(max_workers=4) as executor:\n",
        "    results = list(executor.map(simulate, range(8)))\n",
        "\n",
        "end = time.perf_counter()\n",
        "print(f\"ThreadPool: {end - start:.2f}s\")\n",
        "\n",
        "#Multiprocessing\n",
        "\n",
        "from concurrent.futures import ProcessPoolExecutor\n",
        "\n",
        "start = time.perf_counter()\n",
        "\n",
        "with ProcessPoolExecutor(max_workers=4) as executor:\n",
        "    results = list(executor.map(simulate, range(8)))\n",
        "\n",
        "end = time.perf_counter()\n",
        "print(f\"ProcessPool: {end - start:.2f}s\")\n",
        "\n",
        "# Using pythonic \"map\" function\n",
        "\n",
        "# Serial\n",
        "start = time.perf_counter()\n",
        "list(map(simulate, range(8)))\n",
        "print(f\"map(): {time.perf_counter() - start:.2f}s\")\n",
        "\n",
        "# Parallel (multiprocessing)\n",
        "from multiprocessing import Pool\n",
        "\n",
        "start = time.perf_counter()\n",
        "with Pool(4) as p:\n",
        "    p.map(simulate, range(8))\n",
        "print(f\"Pool.map(): {time.perf_counter() - start:.2f}s\")\n",
        "\n",
        "\n"
      ]
    },
    {
      "cell_type": "markdown",
      "id": "1ca42025",
      "metadata": {
        "id": "1ca42025"
      },
      "source": [
        "## Queuing\n",
        "\n",
        "Queuing is a robust way to ensure data is read and written in the order that it is processed. It also avoids clashes with the GIL  (global interpreter lock) which can cause your code to crash if certain operations, like I/O, happen at the same time over different threads.\n",
        "\n",
        "Queue =  Ensures tasks are added to the queue for execution\n",
        "\n",
        "get  = Returns output and signals that the task is complete\n",
        "\n",
        "join = Waits until the queue is emptied\n",
        "\n",
        "Upon completion, the output can be collated to an array to give the same output as you would normally have with regular looping.\n"
      ]
    },
    {
      "cell_type": "code",
      "execution_count": null,
      "id": "2d76de31",
      "metadata": {
        "id": "2d76de31"
      },
      "outputs": [],
      "source": [
        "import threading\n",
        "import queue\n",
        "import time\n",
        "\n",
        "# Create a shared queue\n",
        "task_queue = queue.Queue()\n",
        "\n",
        "# Worker function\n",
        "def worker():\n",
        "    while True:\n",
        "        try:\n",
        "            item = task_queue.get(timeout=1)   # Get a task\n",
        "        except queue.Empty:\n",
        "            break\n",
        "        print(f\"{threading.current_thread().name} processing item {item}\")\n",
        "        time.sleep(1)  # Simulate I/O work\n",
        "        task_queue.task_done()\n",
        "\n",
        "# Populate queue with tasks\n",
        "for i in range(5):\n",
        "    task_queue.put(i)\n",
        "\n",
        "# Start worker threads\n",
        "threads = []\n",
        "for _ in range(3):\n",
        "    t = threading.Thread(target=worker)\n",
        "    t.start()\n",
        "    threads.append(t)\n",
        "\n",
        "# Wait for all tasks to finish\n",
        "task_queue.join()\n",
        "\n",
        "print(\"All tasks completed.\")\n"
      ]
    },
    {
      "cell_type": "markdown",
      "id": "431cc7f8",
      "metadata": {
        "id": "431cc7f8"
      },
      "source": [
        "## Message Passing Interface (MPI)\n",
        "\n",
        "MPI can be used to launch sub-processes across a multitude of cores allowing large data analysis/simulations to be conducted over multiple nodes/computers."
      ]
    },
    {
      "cell_type": "code",
      "execution_count": null,
      "id": "2a2962ce",
      "metadata": {
        "id": "2a2962ce"
      },
      "outputs": [],
      "source": [
        "#Deploying across clusters - using MPI (Message Passing Interface):\n",
        "\n",
        "from mpi4py import MPI\n",
        "import time, math\n",
        "\n",
        "def simulate(x):\n",
        "    total = 0\n",
        "    for i in range(10_000_00):\n",
        "        total += math.sin(i + x) ** 2\n",
        "    return total\n",
        "\n",
        "comm = MPI.COMM_WORLD\n",
        "rank = comm.Get_rank()\n",
        "size = comm.Get_size()\n",
        "\n",
        "start = time.perf_counter()\n",
        "local_result = simulate(rank)\n",
        "results = comm.gather(local_result, root=0)\n",
        "end = time.perf_counter()\n",
        "\n",
        "if rank == 0:\n",
        "    print(f\"MPI with {size} ranks: {end - start:.2f}s, results={results}\")"
      ]
    }
  ],
  "metadata": {
    "kernelspec": {
      "display_name": "base",
      "language": "python",
      "name": "python3"
    },
    "language_info": {
      "codemirror_mode": {
        "name": "ipython",
        "version": 3
      },
      "file_extension": ".py",
      "mimetype": "text/x-python",
      "name": "python",
      "nbconvert_exporter": "python",
      "pygments_lexer": "ipython3",
      "version": "3.10.10"
    },
    "colab": {
      "provenance": [],
      "include_colab_link": true
    }
  },
  "nbformat": 4,
  "nbformat_minor": 5
}